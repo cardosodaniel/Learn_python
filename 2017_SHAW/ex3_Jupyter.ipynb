{
 "cells": [
  {
   "cell_type": "markdown",
   "metadata": {},
   "source": [
    "# Exercise 3. Numbers and math\n",
    "------\n",
    "- As you type the math symbols, say their names:\n",
    "\n",
    "|   Math Symbol   |   General Name   |   Operation   |\n",
    "|----------------:|:-----------------|---------------|\n",
    "|\\\"+\\\"|plus|addition|\n",
    "|\\\"-\\\"|minus|subtraction|\n",
    "|\"/\"|slash|division|\n",
    "|\"*\"|asterisk|multiplication|\n",
    "|\"%\"|percent|percentage|\n",
    "|\"<\"|less-than|less than|\n",
    "|\">\"|greater-than|greater than|\n",
    "|\"<=\"|less-than-equal|less than or equal to|\n",
    "|\">=\"|greater-than-equal|greater than or equal to|\n",
    "\n",
    "- Print the following code and try to understand how math works on python."
   ]
  },
  {
   "cell_type": "code",
   "execution_count": 1,
   "metadata": {},
   "outputs": [
    {
     "name": "stdout",
     "output_type": "stream",
     "text": [
      "I will now count my chickens.\n"
     ]
    }
   ],
   "source": [
    "print(\"I will now count my chickens.\")"
   ]
  },
  {
   "cell_type": "code",
   "execution_count": 2,
   "metadata": {},
   "outputs": [
    {
     "name": "stdout",
     "output_type": "stream",
     "text": [
      "Hens 30.0\n",
      "Roosters 97\n"
     ]
    }
   ],
   "source": [
    "print(\"Hens\",25+30/6)\n",
    "print(\"Roosters\",100-25*3%4)"
   ]
  },
  {
   "cell_type": "code",
   "execution_count": 4,
   "metadata": {},
   "outputs": [
    {
     "name": "stdout",
     "output_type": "stream",
     "text": [
      "Roosters 97.0\n"
     ]
    }
   ],
   "source": [
    "#This should print \"Roosters\" as a floating number:\n",
    "print(\"Roosters\",float(100-25*3%4))"
   ]
  },
  {
   "cell_type": "code",
   "execution_count": 5,
   "metadata": {},
   "outputs": [
    {
     "name": "stdout",
     "output_type": "stream",
     "text": [
      "Roosters 97.0\n"
     ]
    }
   ],
   "source": [
    "#This shoul work too\n",
    "print(\"Roosters\", 100.0-25*3%4)"
   ]
  },
  {
   "cell_type": "code",
   "execution_count": 6,
   "metadata": {},
   "outputs": [
    {
     "name": "stdout",
     "output_type": "stream",
     "text": [
      "Now I will count my eggs.\n",
      "6.75\n"
     ]
    }
   ],
   "source": [
    "print(\"Now I will count my eggs.\")\n",
    "print(3+2+1-5+4%2-1/4+6)"
   ]
  },
  {
   "cell_type": "code",
   "execution_count": 8,
   "metadata": {},
   "outputs": [
    {
     "name": "stdout",
     "output_type": "stream",
     "text": [
      "Is it true that 3+2<5-7?\n",
      "False\n"
     ]
    }
   ],
   "source": [
    "print(\"Is it true that 3+2<5-7?\")\n",
    "print(3+2<5-7)"
   ]
  },
  {
   "cell_type": "code",
   "execution_count": 9,
   "metadata": {},
   "outputs": [
    {
     "name": "stdout",
     "output_type": "stream",
     "text": [
      "What is 3+2? 5\n",
      "What is 5-7? -2\n"
     ]
    }
   ],
   "source": [
    "print(\"What is 3+2?\",3+2)\n",
    "print(\"What is 5-7?\",5-7)"
   ]
  },
  {
   "cell_type": "code",
   "execution_count": 10,
   "metadata": {},
   "outputs": [
    {
     "name": "stdout",
     "output_type": "stream",
     "text": [
      "Oh, that's why it's False.\n",
      "How about some more?\n"
     ]
    }
   ],
   "source": [
    "print(\"Oh, that's why it's False.\")\n",
    "print(\"How about some more?\")"
   ]
  },
  {
   "cell_type": "code",
   "execution_count": 12,
   "metadata": {},
   "outputs": [
    {
     "name": "stdout",
     "output_type": "stream",
     "text": [
      "Is it greater? True\n",
      "Is it greater or equal? True\n",
      "Is it less or equal? False\n"
     ]
    }
   ],
   "source": [
    "print(\"Is it greater?\",5>-2)\n",
    "print(\"Is it greater or equal?\",5>=-2)\n",
    "print(\"Is it less or equal?\",5<=-2)"
   ]
  },
  {
   "cell_type": "code",
   "execution_count": null,
   "metadata": {},
   "outputs": [],
   "source": []
  }
 ],
 "metadata": {
  "kernelspec": {
   "display_name": "Python 3",
   "language": "python",
   "name": "python3"
  },
  "language_info": {
   "codemirror_mode": {
    "name": "ipython",
    "version": 3
   },
   "file_extension": ".py",
   "mimetype": "text/x-python",
   "name": "python",
   "nbconvert_exporter": "python",
   "pygments_lexer": "ipython3",
   "version": "3.7.3"
  }
 },
 "nbformat": 4,
 "nbformat_minor": 2
}
